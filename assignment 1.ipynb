{
 "cells": [
  {
   "cell_type": "code",
   "execution_count": 3,
   "id": "81fb9e60",
   "metadata": {},
   "outputs": [
    {
     "name": "stdout",
     "output_type": "stream",
     "text": [
      "Object `number` not found.\n",
      "Array= [5, 2, 3, 4, 1, 6, 7]\n",
      "pairs whose sum is: 7\n",
      "5 2\n",
      "3 4\n",
      "1 6\n"
     ]
    }
   ],
   "source": [
    " 1.Write a program to find all pairs of an integer array whose sum is equal to a given number?\n",
    "\n",
    "def find (array,len,sum):\n",
    "    print(\"pairs whose sum is:\",sum)\n",
    "    for i in range(len):\n",
    "        for j in range(i,len):\n",
    "            if (array[i]+array[j])== sum:\n",
    "                print(array[i],array[j])\n",
    "array=[5,2,3,4,1,6,7]\n",
    "    # take input from user\n",
    "sum=7\n",
    "    # print array\n",
    "print(\"Array=\",array)\n",
    "    #cal function find\n",
    "find(array,len(array),sum)\n",
    "                "
   ]
  },
  {
   "cell_type": "markdown",
   "id": "ee855682",
   "metadata": {},
   "source": [
    "## Write a program to reverse an array in place? In place means you cannot create a new array. You have to update the original array."
   ]
  },
  {
   "cell_type": "code",
   "execution_count": 4,
   "id": "ac99f48f",
   "metadata": {},
   "outputs": [],
   "source": [
    "def reverselist(A):\n",
    "        print( A[: : -1])\n",
    "        A=[1,2,3,4,5,6]\n",
    "        print(A)\n",
    "        print(\"reversed list is\")\n",
    "        reverselist(A)"
   ]
  },
  {
   "cell_type": "code",
   "execution_count": 1,
   "id": "26881f1f",
   "metadata": {},
   "outputs": [
    {
     "ename": "SyntaxError",
     "evalue": "invalid syntax (4108527314.py, line 7)",
     "output_type": "error",
     "traceback": [
      "\u001b[1;36m  File \u001b[1;32m\"C:\\Users\\my-pc\\AppData\\Local\\Temp\\ipykernel_10268\\4108527314.py\"\u001b[1;36m, line \u001b[1;32m7\u001b[0m\n\u001b[1;33m    if size1! = size2:\u001b[0m\n\u001b[1;37m            ^\u001b[0m\n\u001b[1;31mSyntaxError\u001b[0m\u001b[1;31m:\u001b[0m invalid syntax\n"
     ]
    }
   ],
   "source": [
    " 3.Write a program to check if two strings are a rotation of each other?\n",
    "\n",
    "def arerotations(string1,string2):\n",
    "    size1 = len(string1)\n",
    "    size2 = len(string2)\n",
    "    temp =''\n",
    "if size1! = size2:\n",
    "    temp=string1+string1\n",
    "    if (temp.count(string2)>0:\n",
    "       return 1\n",
    "    else:\n",
    "        return 0\n",
    "string1=\"AACD\"\n",
    "string2=\"ACDA\"\n",
    "if arerotations(string1,string2):\n",
    "        print\"strings are rotations of each other\"\n",
    "else:\n",
    "        print\"strings are not rotations of each other\""
   ]
  },
  {
   "cell_type": "code",
   "execution_count": 7,
   "id": "cbf354ca",
   "metadata": {},
   "outputs": [],
   "source": [
    "Q4. Write a program to print the first non-repeated character from a string?"
   ]
  },
  {
   "cell_type": "code",
   "execution_count": 8,
   "id": "488f56f4",
   "metadata": {},
   "outputs": [
    {
     "name": "stdout",
     "output_type": "stream",
     "text": [
      "The First Non Repeating Character in prashanshasa is:\n",
      "p\n",
      "r\n",
      "n\n"
     ]
    }
   ],
   "source": [
    "from collections import Counter\n",
    "def NonRepeatChar(Str):\n",
    "    frequency = Counter(Str)\n",
    "    for i in Str:\n",
    "        if(frequency[i] == 1):\n",
    "            print(i)\n",
    "\n",
    "Str = \"prashanshasa\"\n",
    "print(\"The First Non Repeating Character in\",Str,\"is:\")\n",
    "NonRepeatChar(Str)\n"
   ]
  },
  {
   "cell_type": "code",
   "execution_count": null,
   "id": "08715e97",
   "metadata": {},
   "outputs": [],
   "source": [
    "Q5. Read about the Tower of Hanoi algorithm. Write a program to implement it."
   ]
  },
  {
   "cell_type": "code",
   "execution_count": 14,
   "id": "ffed853b",
   "metadata": {},
   "outputs": [],
   "source": [
    "def towerofhanoi (n,from_rod,to_rod,aux_rod):\n",
    "    if n==0:\n",
    "        return\n",
    "    towerofhanot(n-1,from_rod,aux_rod,to_rod)\n",
    "    print(\"move disk\",n,\"from rod\",from_rod,\"to rod\",to_rod)\n",
    "    towerofhanoi(n-1,aux_rod,to_rod,from_rod)\n",
    "    N=3\n",
    "    towerofhanoi(N,'A','C','B')"
   ]
  },
  {
   "cell_type": "code",
   "execution_count": null,
   "id": "b29c5f26",
   "metadata": {},
   "outputs": [],
   "source": [
    "6.Read about infix, prefix, and postfix expressions. Write a program to convert postfix to prefix expression."
   ]
  },
  {
   "cell_type": "code",
   "execution_count": 2,
   "id": "ee7ac454",
   "metadata": {},
   "outputs": [],
   "source": [
    "def isoperator(x):\n",
    "    if x== \"+\":\n",
    "        return true\n",
    "    if x== \"-\":\n",
    "        return true\n",
    "    if x== \"/\":\n",
    "        return true\n",
    "    if x== \"*\":\n",
    "        return true\n",
    "    return false\n",
    "def posttopre(post_exp):\n",
    "    s =[]\n",
    "    length = len(post_exp)\n",
    "    for i in range(length):\n",
    "        if(isoperator(post_exp[i])):\n",
    "            op1 =s[-1]\n",
    "            s.pop()\n",
    "            op2 = s[-1]\n",
    "            s.pop\n",
    "            temp=post_exp[i]+op2+op1\n",
    "            s.append(temp)\n",
    "        else:\n",
    "                s.append(post_exp[i])\n",
    "        ans = \" \"\n",
    "        for i in s:\n",
    "            ans += i\n",
    "            return ans\n",
    "        if __name__ ==\"__main__\":\n",
    "            post_exp = \"AB+CD-\"\n",
    "            print(\"prefix :\",posttopre(post_exp))"
   ]
  },
  {
   "cell_type": "code",
   "execution_count": null,
   "id": "bcfbd1ff",
   "metadata": {},
   "outputs": [],
   "source": []
  },
  {
   "cell_type": "code",
   "execution_count": null,
   "id": "8a85245f",
   "metadata": {},
   "outputs": [],
   "source": [
    " 7.Write a program to convert prefix expression to infix expression."
   ]
  },
  {
   "cell_type": "code",
   "execution_count": 8,
   "id": "df7d440e",
   "metadata": {},
   "outputs": [],
   "source": [
    "def prefixtoinfix(prefix):\n",
    "    stack=[]\n",
    "    i= len(prefix) -1\n",
    "    while i >=0:\n",
    "        if not isoperator(prefix[i]):\n",
    "            stack.append(prefix[i])\n",
    "            i -=1\n",
    "        else:\n",
    "                str =\"(\" + stack.pop() +prefix[i]+stack.pop()+\")\"\n",
    "                stack.append(str)\n",
    "                i -= 1\n",
    "    return stack.pop()\n",
    "def isoperator(c):\n",
    "            if c ==\"*\"or c==\"+\"or c ==\"-\" or c==\"/\" or c==\"^\" or c==\"(\" or c ==\")\":\n",
    "                return true\n",
    "            else:\n",
    "                return false\n",
    "            if __name__==\"__main__\":\n",
    "                str = \"*-A/BC-/AKL\"\n",
    "                print(prefixtoinfix(str))"
   ]
  },
  {
   "cell_type": "code",
   "execution_count": null,
   "id": "0e520022",
   "metadata": {},
   "outputs": [],
   "source": [
    "Q8. Write a program to check if all the brackets are closed in a given code snippet."
   ]
  },
  {
   "cell_type": "code",
   "execution_count": 9,
   "id": "ab40e3b3",
   "metadata": {},
   "outputs": [
    {
     "name": "stdout",
     "output_type": "stream",
     "text": [
      "Not Balanced\n",
      "**************************************************\n",
      "Balanced\n"
     ]
    }
   ],
   "source": [
    "def BalancedBrackets(exp):\n",
    "    stack = []\n",
    "    for x in exp:\n",
    "        if x in [\"(\", \"{\", \"[\"]:\n",
    "            stack.append(x)\n",
    "        else:\n",
    "            if not stack:\n",
    "                return False\n",
    "            current_x = stack.pop()\n",
    "            if current_x == '(':\n",
    "                if x != \")\":\n",
    "                    return False\n",
    "            if current_x == '{':\n",
    "                if x != \"}\":\n",
    "                    return False\n",
    "            if current_x == '[':\n",
    "                if x != \"]\":\n",
    "                    return False\n",
    "    if stack:\n",
    "        return False\n",
    "    return True\n",
    "\n",
    "expression = \"{({[)]})}\"\n",
    "if BalancedBrackets(expression):\n",
    "    print(\"Balanced\")\n",
    "else:\n",
    "    print(\"Not Balanced\")\n",
    "print(\"*\"*50)\n",
    "expression_1 = \"{([])}\"\n",
    "if BalancedBrackets(expression_1):\n",
    "    print(\"Balanced\")\n",
    "else:\n",
    "    print(\"Not Balanced\")\n",
    "\n"
   ]
  },
  {
   "cell_type": "code",
   "execution_count": null,
   "id": "712f4a06",
   "metadata": {},
   "outputs": [],
   "source": [
    "Q9. Write a program to reverse a stack."
   ]
  },
  {
   "cell_type": "code",
   "execution_count": 10,
   "id": "90619cd6",
   "metadata": {},
   "outputs": [
    {
     "name": "stdout",
     "output_type": "stream",
     "text": [
      "Original Stack\n",
      "10\n",
      "8\n",
      "6\n",
      "4\n",
      "2\n",
      "0\n",
      "\n",
      "Stack after Reversing\n",
      "0\n",
      "2\n",
      "4\n",
      "6\n",
      "8\n",
      "10\n"
     ]
    }
   ],
   "source": [
    "class Stack:\n",
    "    def __init__(self):\n",
    "        self.Elements = []\n",
    "    def push(self, value):\n",
    "        self.Elements.append(value)\n",
    "    def pop(self):\n",
    "        return self.Elements.pop()\n",
    "    def empty(self):\n",
    "        return self.Elements == []\n",
    "    def show(self):\n",
    "        for value in reversed(self.Elements):\n",
    "            print(value)\n",
    "\n",
    "def BottomInsert(s, value):\n",
    "    if s.empty():\n",
    "        s.push(value)\n",
    "    else:\n",
    "        popped = s.pop()\n",
    "        BottomInsert(s, value)\n",
    "        s.push(popped)\n",
    "\n",
    "def Reverse(s):\n",
    "    if s.empty():\n",
    "        pass\n",
    "    else:\n",
    "        popped = s.pop()\n",
    "        Reverse(s)\n",
    "        BottomInsert(s, popped)\n",
    "\n",
    "stack = Stack()\n",
    "stack.push(0)\n",
    "stack.push(2)\n",
    "stack.push(4)\n",
    "stack.push(6)\n",
    "stack.push(8)\n",
    "stack.push(10)\n",
    "print(\"Original Stack\")\n",
    "stack.show()\n",
    "\n",
    "print(\"\\nStack after Reversing\")\n",
    "Reverse(stack)\n",
    "stack.show()"
   ]
  },
  {
   "cell_type": "code",
   "execution_count": null,
   "id": "2c839f56",
   "metadata": {},
   "outputs": [],
   "source": [
    "Q10. Write a program to find the smallest number using a stack."
   ]
  },
  {
   "cell_type": "code",
   "execution_count": 11,
   "id": "98050b02",
   "metadata": {},
   "outputs": [
    {
     "name": "stdout",
     "output_type": "stream",
     "text": [
      "-3\n",
      "0\n",
      "-2\n"
     ]
    }
   ],
   "source": [
    "class MinStack(object):\n",
    "    min=float('inf')\n",
    "    def __init__(self):\n",
    "        self.min=float('inf')\n",
    "        self.stack = []\n",
    "    def push(self, x):\n",
    "        if x<=self.min:\n",
    "            self.stack.append(self.min)\n",
    "            self.min = x\n",
    "        self.stack.append(x)\n",
    "    def pop(self):\n",
    "        t = self.stack[-1]\n",
    "        self.stack.pop()\n",
    "        if self.min == t:\n",
    "            self.min = self.stack[-1]\n",
    "            self.stack.pop()\n",
    "    def top(self):\n",
    "        return self.stack[-1]\n",
    "    def getMin(self):\n",
    "        return self.min\n",
    "    \n",
    "m = MinStack()\n",
    "m.push(-2)\n",
    "m.push(0)\n",
    "m.push(-3)\n",
    "print(m.getMin())\n",
    "m.pop()\n",
    "print(m.top())\n",
    "print(m.getMin())\n",
    "\n"
   ]
  },
  {
   "cell_type": "code",
   "execution_count": null,
   "id": "2e247fa9",
   "metadata": {},
   "outputs": [],
   "source": []
  }
 ],
 "metadata": {
  "kernelspec": {
   "display_name": "Python 3 (ipykernel)",
   "language": "python",
   "name": "python3"
  },
  "language_info": {
   "codemirror_mode": {
    "name": "ipython",
    "version": 3
   },
   "file_extension": ".py",
   "mimetype": "text/x-python",
   "name": "python",
   "nbconvert_exporter": "python",
   "pygments_lexer": "ipython3",
   "version": "3.9.13"
  }
 },
 "nbformat": 4,
 "nbformat_minor": 5
}
